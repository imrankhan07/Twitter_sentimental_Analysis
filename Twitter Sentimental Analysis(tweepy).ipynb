{
 "cells": [
  {
   "cell_type": "code",
   "execution_count": 28,
   "metadata": {
    "scrolled": true
   },
   "outputs": [
    {
     "name": "stdout",
     "output_type": "stream",
     "text": [
      "RT @joannasimon: First shout for my latest #wineoftheweek - pinot noir from Alsace star @LEON_BEYER_VINS in the excellent super-sunny 2015…\n",
      "Sentiment(polarity=0.5833333333333334, subjectivity=0.7444444444444445)\n",
      "DA REDEN GRADE KINDER DIE VERMUTLICH NOCH NICHMAL IN DER SECHSTEN SIND DARÜBER WIE DICHT SIE AM GEBURTSTAG VON EINEM LEON WAREN. WTF?!\n",
      "Sentiment(polarity=-0.625, subjectivity=1.0)\n",
      "First shout for my latest #wineoftheweek - pinot noir from Alsace star @LEON_BEYER_VINS in the excellent super-sunn… https://t.co/fY8j2Hprsc\n",
      "Sentiment(polarity=0.5833333333333334, subjectivity=0.7444444444444445)\n",
      "@TelecomManoj @bashirgwakh @BushraGohar @RehamKhan1 😂My Dalit friend u comparing sunny Leon with veena malik 😂 no w… https://t.co/o6pXmTVDRP\n",
      "Sentiment(polarity=0.0, subjectivity=0.0)\n",
      "@TelecomManoj @bashirgwakh @BushraGohar My Dalit friend @RehamKhan1 is more famous in India dan pak. How’s sunny Leon 😂\n",
      "Sentiment(polarity=0.5, subjectivity=0.75)\n",
      "Buttering make you grow. Finding dignity in PTI is like expecting Sunny Leon is virgin! https://t.co/MO8oCMXnku\n",
      "Sentiment(polarity=0.0, subjectivity=0.0)\n",
      "@sahni_arush @axmebkhokhar saari hawayi baten... kanjar insan indians ko defeat pr defeat ho rahi... saalay teri be… https://t.co/gXGKmLsdYw\n",
      "Sentiment(polarity=0.0, subjectivity=0.0)\n",
      "RT @Mubii05806618: @Amihellu @_HellyStann @OfficialHelly7 1 is Rohan..\n",
      "2nd parth ...\n",
      "3rd sunny Leon.. \n",
      "4th Hella ...\n",
      "5th surbhi jyoti\n",
      "Sentiment(polarity=0.0, subjectivity=0.0)\n",
      "@Amihellu @_HellyStann @OfficialHelly7 1 is Rohan..\n",
      "2nd parth ...\n",
      "3rd sunny Leon.. \n",
      "4th Hella ...\n",
      "5th surbhi jyoti\n",
      "Sentiment(polarity=0.0, subjectivity=0.0)\n",
      "RT @bollywood_life: Sunny Leon: Actors make the worst friends https://t.co/j3suh0I6Ug\n",
      "Sentiment(polarity=-1.0, subjectivity=1.0)\n",
      "Sunny Leon: Actors make the worst friends https://t.co/WJysh1Nwhi\n",
      "Sentiment(polarity=-1.0, subjectivity=1.0)\n",
      "日向で眠る兄弟猫🐈🐈\n",
      "\n",
      "Leon and Banana were sleeping together on the pet hot heater in a sunny place.\n",
      "\n",
      "#Leon #blackcat #Banana… https://t.co/OknwMOUrNi\n",
      "Sentiment(polarity=0.25, subjectivity=0.8500000000000001)\n",
      "Sunny Leon: Actors make the worst friends https://t.co/j3suh0I6Ug\n",
      "Sentiment(polarity=-1.0, subjectivity=1.0)\n",
      "@SunnyLeone I love my sunny leon\n",
      "Sentiment(polarity=0.5, subjectivity=0.6)\n",
      "ಗುಟ್ಟು ಬಿಚ್ಚಿಟ್ಟ ಮಾದಕ ತಾರೆ ಸನ್ನಿ- ಹೃದಯದಲ್ಲಿ ಕ್ರಿಕೆಟಿಗ ಎಂ.ಎಸ್.ಧೋನಿ!\n",
      "https://t.co/GtmgmCXN8h\n",
      "@SunnyLeone #MSDhoni… https://t.co/gsaJOubWdT\n",
      "Sentiment(polarity=0.0, subjectivity=0.0)\n"
     ]
    }
   ],
   "source": [
    "import tweepy\n",
    "from textblob import TextBlob\n",
    "consumer_key='m81vfuiemdrr4vorKEmMInwwo'\n",
    "consumer_secret='GZFtFdI6gCM52Z6OeXLObEzG87SMCXafiNDWcmPztJWxQ3Zy9o'\n",
    "access_token='748213128245219328-v6sSijfgkXLKWEFq8YPgTNOJPdVzys5'\n",
    "access_token_secret='b5ylPtAQjiV1XuJBl3BjHsAkozccv7Wyz53G81AFdXUxx'\n",
    "auth=tweepy.OAuthHandler(consumer_key,consumer_secret)\n",
    "auth.set_access_token(access_token,access_token_secret)\n",
    "api=tweepy.API(auth)\n",
    "public_tweets=api.search('Sunny Leon')\n",
    "for tweet in public_tweets:\n",
    "    print(tweet.text)\n",
    "    analysis=TextBlob(tweet.text)\n",
    "    print(analysis.sentiment)"
   ]
  },
  {
   "cell_type": "code",
   "execution_count": null,
   "metadata": {},
   "outputs": [],
   "source": []
  }
 ],
 "metadata": {
  "kernelspec": {
   "display_name": "Python 3",
   "language": "python",
   "name": "python3"
  },
  "language_info": {
   "codemirror_mode": {
    "name": "ipython",
    "version": 3
   },
   "file_extension": ".py",
   "mimetype": "text/x-python",
   "name": "python",
   "nbconvert_exporter": "python",
   "pygments_lexer": "ipython3",
   "version": "3.6.5"
  }
 },
 "nbformat": 4,
 "nbformat_minor": 2
}
